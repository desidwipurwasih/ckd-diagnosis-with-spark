{
  "cells": [
    {
      "cell_type": "markdown",
      "metadata": {
        "id": "2iB5LePR5e8L"
      },
      "source": [
        "**NAMA  : DESI DWI PURWASIH**\n",
        "\n",
        "**NIM        : 1304212095**"
      ]
    },
    {
      "cell_type": "markdown",
      "metadata": {
        "id": "7ykcEtL0JOq7"
      },
      "source": [
        "# **Chronic Kidney Disease**\n",
        "\n",
        "\n"
      ]
    },
    {
      "cell_type": "markdown",
      "metadata": {
        "id": "lIAUBzCKDajr"
      },
      "source": [
        "Dataset yang digunakan diambil dari Kaggle dengan judul “Chronic Kidney Disease Dataset”, yang berisi 400 data rekam medis pasien dan terdiri dari 26 atribut. Dataset ini dipilih karena memuat berbagai fitur klinis yang relevan untuk membangun model prediktif dalam mendiagnosis penyakit ginjal kronis (CKD).\n",
        "\n",
        "Meskipun ukuran dataset ini tergolong kecil, proyek ini mengintegrasikan Apache Spark melalui PySpark sebagai alat pemrosesan data skala besar. Pendekatan ini digunakan untuk mensimulasikan penerapan teknologi Big Data terhadap data klinis yang berpotensi meningkat dalam volume dan kompleksitas di dunia nyata."
      ]
    },
    {
      "cell_type": "code",
      "source": [
        "!pip install pyspark\n",
        "!apt install -y openjdk-8-jdk-headless -qq > /dev/null\n",
        "!wget -q https://archive.apache.org/dist/spark/spark-3.1.2/spark-3.1.2-bin-hadoop2.7.tgz\n",
        "!tar xf spark-3.1.2-bin-hadoop2.7.tgz\n",
        "!pip install -q findspark\n"
      ],
      "metadata": {
        "colab": {
          "base_uri": "https://localhost:8080/"
        },
        "id": "2rwZToT3flGh",
        "outputId": "ade6b5fe-7896-4734-e396-01cf65f4cc20"
      },
      "execution_count": null,
      "outputs": [
        {
          "output_type": "stream",
          "name": "stdout",
          "text": [
            "Requirement already satisfied: pyspark in /usr/local/lib/python3.11/dist-packages (3.5.1)\n",
            "Requirement already satisfied: py4j==0.10.9.7 in /usr/local/lib/python3.11/dist-packages (from pyspark) (0.10.9.7)\n",
            "\n",
            "WARNING: apt does not have a stable CLI interface. Use with caution in scripts.\n",
            "\n"
          ]
        }
      ]
    },
    {
      "cell_type": "code",
      "source": [
        "import os\n",
        "import findspark\n",
        "\n",
        "os.environ[\"JAVA_HOME\"] = \"/usr/lib/jvm/java-8-openjdk-amd64\"\n",
        "os.environ[\"SPARK_HOME\"] = \"/content/spark-3.1.2-bin-hadoop2.7\"\n",
        "\n",
        "findspark.init()"
      ],
      "metadata": {
        "id": "t5Qzoe8-kRcw"
      },
      "execution_count": null,
      "outputs": []
    },
    {
      "cell_type": "code",
      "execution_count": null,
      "metadata": {
        "id": "x0f8hi0iG0Yu"
      },
      "outputs": [],
      "source": [
        "# Import Libraries\n",
        "import numpy as np # linear algebra\n",
        "import pandas as pd # data processing, CSV file I/O (e.g. pd.read_csv)\n",
        "import matplotlib.pyplot as plt\n",
        "import seaborn as sns\n",
        "import sklearn\n",
        "import random\n",
        "import os\n",
        "\n",
        "from pyspark.sql import SparkSession\n",
        "from pyspark.ml import Pipeline\n",
        "from pyspark.ml.feature import StringIndexer, VectorAssembler\n",
        "from pyspark.ml.classification import RandomForestClassifier\n",
        "from pyspark.ml.evaluation import MulticlassClassificationEvaluator, BinaryClassificationEvaluator\n",
        "from pyspark.ml.tuning import ParamGridBuilder, TrainValidationSplit\n"
      ]
    },
    {
      "cell_type": "code",
      "source": [
        "spark = SparkSession.builder.appName(\"CKD_Classification\").getOrCreate()\n"
      ],
      "metadata": {
        "id": "4nXnIqN319DT"
      },
      "execution_count": null,
      "outputs": []
    },
    {
      "cell_type": "code",
      "source": [
        "# Load data\n",
        "df = spark.read.csv(\"kidney_disease.csv\", header=True, inferSchema=True)\n",
        "df.show()"
      ],
      "metadata": {
        "colab": {
          "base_uri": "https://localhost:8080/"
        },
        "id": "GcK-GC2q2Bjz",
        "outputId": "23dcc097-d997-4828-fde0-fbb803fb5abc"
      },
      "execution_count": null,
      "outputs": [
        {
          "output_type": "stream",
          "name": "stdout",
          "text": [
            "+---+----+-----+-----+----+----+--------+--------+----------+----------+-----+-----+----+-----+----+----+----+-----+----+---+---+---+-----+---+---+--------------+\n",
            "| id| age|   bp|   sg|  al|  su|     rbc|      pc|       pcc|        ba|  bgr|   bu|  sc|  sod| pot|hemo| pcv|   wc|  rc|htn| dm|cad|appet| pe|ane|classification|\n",
            "+---+----+-----+-----+----+----+--------+--------+----------+----------+-----+-----+----+-----+----+----+----+-----+----+---+---+---+-----+---+---+--------------+\n",
            "|  0|48.0| 80.0| 1.02| 1.0| 0.0|    null|  normal|notpresent|notpresent|121.0| 36.0| 1.2| null|null|15.4|  44| 7800| 5.2|yes|yes| no| good| no| no|           ckd|\n",
            "|  1| 7.0| 50.0| 1.02| 4.0| 0.0|    null|  normal|notpresent|notpresent| null| 18.0| 0.8| null|null|11.3|  38| 6000|null| no| no| no| good| no| no|           ckd|\n",
            "|  2|62.0| 80.0| 1.01| 2.0| 3.0|  normal|  normal|notpresent|notpresent|423.0| 53.0| 1.8| null|null| 9.6|  31| 7500|null| no|yes| no| poor| no|yes|           ckd|\n",
            "|  3|48.0| 70.0|1.005| 4.0| 0.0|  normal|abnormal|   present|notpresent|117.0| 56.0| 3.8|111.0| 2.5|11.2|  32| 6700| 3.9|yes| no| no| poor|yes|yes|           ckd|\n",
            "|  4|51.0| 80.0| 1.01| 2.0| 0.0|  normal|  normal|notpresent|notpresent|106.0| 26.0| 1.4| null|null|11.6|  35| 7300| 4.6| no| no| no| good| no| no|           ckd|\n",
            "|  5|60.0| 90.0|1.015| 3.0| 0.0|    null|    null|notpresent|notpresent| 74.0| 25.0| 1.1|142.0| 3.2|12.2|  39| 7800| 4.4|yes|yes| no| good|yes| no|           ckd|\n",
            "|  6|68.0| 70.0| 1.01| 0.0| 0.0|    null|  normal|notpresent|notpresent|100.0| 54.0|24.0|104.0| 4.0|12.4|  36| null|null| no| no| no| good| no| no|           ckd|\n",
            "|  7|24.0| null|1.015| 2.0| 4.0|  normal|abnormal|notpresent|notpresent|410.0| 31.0| 1.1| null|null|12.4|  44| 6900|   5| no|yes| no| good|yes| no|           ckd|\n",
            "|  8|52.0|100.0|1.015| 3.0| 0.0|  normal|abnormal|   present|notpresent|138.0| 60.0| 1.9| null|null|10.8|  33| 9600| 4.0|yes|yes| no| good| no|yes|           ckd|\n",
            "|  9|53.0| 90.0| 1.02| 2.0| 0.0|abnormal|abnormal|   present|notpresent| 70.0|107.0| 7.2|114.0| 3.7| 9.5|  29|12100| 3.7|yes|yes| no| poor| no|yes|           ckd|\n",
            "| 10|50.0| 60.0| 1.01| 2.0| 4.0|    null|abnormal|   present|notpresent|490.0| 55.0| 4.0| null|null| 9.4|  28| null|null|yes|yes| no| good| no|yes|           ckd|\n",
            "| 11|63.0| 70.0| 1.01| 3.0| 0.0|abnormal|abnormal|   present|notpresent|380.0| 60.0| 2.7|131.0| 4.2|10.8|  32| 4500| 3.8|yes|yes| no| poor|yes| no|           ckd|\n",
            "| 12|68.0| 70.0|1.015| 3.0| 1.0|    null|  normal|   present|notpresent|208.0| 72.0| 2.1|138.0| 5.8| 9.7|  28|12200| 3.4|yes|yes|yes| poor|yes| no|           ckd|\n",
            "| 13|68.0| 70.0| null|null|null|    null|    null|notpresent|notpresent| 98.0| 86.0| 4.6|135.0| 3.4| 9.8|null| null|null|yes|yes|yes| poor|yes| no|           ckd|\n",
            "| 14|68.0| 80.0| 1.01| 3.0| 2.0|  normal|abnormal|   present|   present|157.0| 90.0| 4.1|130.0| 6.4| 5.6|  16|11000| 2.6|yes|yes|yes| poor|yes| no|           ckd|\n",
            "| 15|40.0| 80.0|1.015| 3.0| 0.0|    null|  normal|notpresent|notpresent| 76.0|162.0| 9.6|141.0| 4.9| 7.6|  24| 3800| 2.8|yes| no| no| good| no|yes|           ckd|\n",
            "| 16|47.0| 70.0|1.015| 2.0| 0.0|    null|  normal|notpresent|notpresent| 99.0| 46.0| 2.2|138.0| 4.1|12.6|null| null|null| no| no| no| good| no| no|           ckd|\n",
            "| 17|47.0| 80.0| null|null|null|    null|    null|notpresent|notpresent|114.0| 87.0| 5.2|139.0| 3.7|12.1|null| null|null|yes| no| no| poor| no| no|           ckd|\n",
            "| 18|60.0|100.0|1.025| 0.0| 3.0|    null|  normal|notpresent|notpresent|263.0| 27.0| 1.3|135.0| 4.3|12.7|  37|11400| 4.3|yes|yes|yes| good| no| no|           ckd|\n",
            "| 19|62.0| 60.0|1.015| 1.0| 0.0|    null|abnormal|   present|notpresent|100.0| 31.0| 1.6| null|null|10.3|  30| 5300| 3.7|yes| no|yes| good| no| no|           ckd|\n",
            "+---+----+-----+-----+----+----+--------+--------+----------+----------+-----+-----+----+-----+----+----+----+-----+----+---+---+---+-----+---+---+--------------+\n",
            "only showing top 20 rows\n",
            "\n"
          ]
        }
      ]
    },
    {
      "cell_type": "code",
      "execution_count": null,
      "metadata": {
        "colab": {
          "base_uri": "https://localhost:8080/"
        },
        "id": "9Styo5YZXgDt",
        "outputId": "7e226f65-422e-4f74-bd2f-474c4f219240"
      },
      "outputs": [
        {
          "output_type": "stream",
          "name": "stdout",
          "text": [
            "+-------+------------------+-----------------+-----------------+--------------------+------------------+-------------------+--------+--------+----------+----------+-----------------+------------------+------------------+------------------+-----------------+------------------+-----------------+------------------+------------------+----+----+----+-----+----+----+--------------+\n",
            "|summary|                id|              age|               bp|                  sg|                al|                 su|     rbc|      pc|       pcc|        ba|              bgr|                bu|                sc|               sod|              pot|              hemo|              pcv|                wc|                rc| htn|  dm| cad|appet|  pe| ane|classification|\n",
            "+-------+------------------+-----------------+-----------------+--------------------+------------------+-------------------+--------+--------+----------+----------+-----------------+------------------+------------------+------------------+-----------------+------------------+-----------------+------------------+------------------+----+----+----+-----+----+----+--------------+\n",
            "|  count|               400|              391|              388|                 353|               354|                351|     248|     335|       396|       396|              356|               381|               383|               313|              312|               348|              330|               295|               270| 398| 398| 398|  399| 399| 399|           400|\n",
            "|   mean|             199.5|51.48337595907928|76.46907216494846|  1.0174079320113256|1.0169491525423728|0.45014245014245013|    null|    null|      null|      null|148.0365168539326|57.425721784776904|3.0724543080939934|137.52875399361022|4.627243589743592|12.526436781609195|38.88449848024316| 8406.122448979591| 4.707434944237919|null|null|null| null|null|null|          null|\n",
            "| stddev|115.61430130683084|17.16971408926224|13.68363749352527|0.005716616974376756|1.3526789127628445|  1.099191251885407|    null|    null|      null|      null|79.28171423511773|50.503005849222504| 5.741126066859789|10.408752051798777|3.193904176556695| 2.912586608826765|8.990104814740933|2944.4741904103385|1.0253232655721791|null|null|null| null|null|null|          null|\n",
            "|    min|                 0|              2.0|             50.0|               1.005|               0.0|                0.0|abnormal|abnormal|notpresent|notpresent|             22.0|               1.5|               0.4|               4.5|              2.5|               3.1|              \t43|             \t6200|                \t?|  no| \tno| \tno| good|  no|  no|           ckd|\n",
            "|    max|               399|             90.0|            180.0|               1.025|               5.0|                5.0|  normal|  normal|   present|   present|            490.0|             391.0|              76.0|             163.0|             47.0|              17.8|                9|              9900|               8.0| yes| yes| yes| poor| yes| yes|        notckd|\n",
            "+-------+------------------+-----------------+-----------------+--------------------+------------------+-------------------+--------+--------+----------+----------+-----------------+------------------+------------------+------------------+-----------------+------------------+-----------------+------------------+------------------+----+----+----+-----+----+----+--------------+\n",
            "\n"
          ]
        }
      ],
      "source": [
        "df.describe().show()"
      ]
    },
    {
      "cell_type": "code",
      "execution_count": null,
      "metadata": {
        "colab": {
          "base_uri": "https://localhost:8080/"
        },
        "id": "JjmgKQJXZx6B",
        "outputId": "70819e88-7896-4575-dd22-e3093aeb7c01"
      },
      "outputs": [
        {
          "output_type": "stream",
          "name": "stdout",
          "text": [
            "root\n",
            " |-- id: integer (nullable = true)\n",
            " |-- age: double (nullable = true)\n",
            " |-- bp: double (nullable = true)\n",
            " |-- sg: double (nullable = true)\n",
            " |-- al: double (nullable = true)\n",
            " |-- su: double (nullable = true)\n",
            " |-- rbc: string (nullable = true)\n",
            " |-- pc: string (nullable = true)\n",
            " |-- pcc: string (nullable = true)\n",
            " |-- ba: string (nullable = true)\n",
            " |-- bgr: double (nullable = true)\n",
            " |-- bu: double (nullable = true)\n",
            " |-- sc: double (nullable = true)\n",
            " |-- sod: double (nullable = true)\n",
            " |-- pot: double (nullable = true)\n",
            " |-- hemo: double (nullable = true)\n",
            " |-- pcv: string (nullable = true)\n",
            " |-- wc: string (nullable = true)\n",
            " |-- rc: string (nullable = true)\n",
            " |-- htn: string (nullable = true)\n",
            " |-- dm: string (nullable = true)\n",
            " |-- cad: string (nullable = true)\n",
            " |-- appet: string (nullable = true)\n",
            " |-- pe: string (nullable = true)\n",
            " |-- ane: string (nullable = true)\n",
            " |-- classification: string (nullable = true)\n",
            "\n"
          ]
        }
      ],
      "source": [
        "df.printSchema()"
      ]
    },
    {
      "cell_type": "code",
      "execution_count": null,
      "metadata": {
        "id": "7ccb-2iuYBDo"
      },
      "outputs": [],
      "source": [
        "# Drop kolom id\n",
        "df = df.drop(\"id\")"
      ]
    },
    {
      "cell_type": "code",
      "execution_count": null,
      "metadata": {
        "id": "19G6egh_YdHU"
      },
      "outputs": [],
      "source": [
        "from pyspark.sql.functions import when, col\n",
        "\n",
        "# Bersihkan kolom dengan nilai tidak valid\n",
        "for col_name in ['dm', 'cad']:\n",
        "    df = df.withColumn(col_name, when(col(col_name).like(\"?\\t?\"), None).otherwise(col(col_name)))\n"
      ]
    },
    {
      "cell_type": "code",
      "execution_count": null,
      "metadata": {
        "id": "Qhyo3QZFY0d2"
      },
      "outputs": [],
      "source": [
        "# Convert kolom numerik dari string ke float\n",
        "for col_name in ['pcv', 'wc', 'rc']:\n",
        "    df = df.withColumn(col_name, col(col_name).cast(\"float\"))"
      ]
    },
    {
      "cell_type": "markdown",
      "source": [
        "**Cleaning**"
      ],
      "metadata": {
        "id": "MwaK9Bo1tnHb"
      }
    },
    {
      "cell_type": "code",
      "execution_count": null,
      "metadata": {
        "colab": {
          "base_uri": "https://localhost:8080/"
        },
        "id": "TAtE_C3tYhd_",
        "outputId": "c61caf39-c19d-4a5b-c261-38a5f53d0289"
      },
      "outputs": [
        {
          "output_type": "stream",
          "name": "stdout",
          "text": [
            "+---+---+---+---+---+---+---+---+---+---+---+---+---+---+----+---+---+---+---+---+---+-----+---+---+--------------+\n",
            "|age| bp| sg| al| su|rbc| pc|pcc| ba|bgr| bu| sc|sod|pot|hemo|pcv| wc| rc|htn| dm|cad|appet| pe|ane|classification|\n",
            "+---+---+---+---+---+---+---+---+---+---+---+---+---+---+----+---+---+---+---+---+---+-----+---+---+--------------+\n",
            "|  9| 12| 47| 46| 49|152| 65|  4|  4| 44| 19| 17| 87| 88|  52| 71|106|131|  2|  2|  2|    1|  1|  1|             0|\n",
            "+---+---+---+---+---+---+---+---+---+---+---+---+---+---+----+---+---+---+---+---+---+-----+---+---+--------------+\n",
            "\n"
          ]
        }
      ],
      "source": [
        "from pyspark.sql.functions import col, when, count, isnan\n",
        "\n",
        "# Cek jumlah missing value per kolom\n",
        "df.select([count(when(col(c).isNull() | isnan(c), c)).alias(c) for c in df.columns]).show()"
      ]
    },
    {
      "cell_type": "code",
      "source": [
        "# Ganti label ckd/notckd ke angka\n",
        "df = df.withColumnRenamed(\"classification\", \"label\")"
      ],
      "metadata": {
        "id": "P0idwhxhzuay"
      },
      "execution_count": null,
      "outputs": []
    },
    {
      "cell_type": "code",
      "source": [
        "# Drop missing values\n",
        "df_clean = df.dropna()"
      ],
      "metadata": {
        "id": "RY3lcqqZzyyR"
      },
      "execution_count": null,
      "outputs": []
    },
    {
      "cell_type": "code",
      "source": [
        "# Kolom kategorikal\n",
        "categorical_cols = [col_name for col_name in df_clean.columns if df_clean.select(col_name).dtypes[0][1] == 'string' and col_name != \"label\"]\n",
        "\n",
        "# StringIndexer untuk kategorikal\n",
        "indexers = [StringIndexer(inputCol=col, outputCol=col + \"_index\") for col in categorical_cols]\n",
        "\n",
        "# Encode label\n",
        "label_indexer = StringIndexer(inputCol=\"label\", outputCol=\"label_index\")\n",
        "\n",
        "# Fitur akhir (gabungkan semua kolom numerik dan indeks)\n",
        "indexed_features = [col + \"_index\" for col in categorical_cols]\n",
        "numeric_features = [col for col, dtype in df_clean.dtypes if dtype in ['double', 'int'] and col != \"id\"]\n",
        "final_features = numeric_features + indexed_features\n",
        "\n",
        "assembler = VectorAssembler(inputCols=final_features, outputCol=\"features\")\n"
      ],
      "metadata": {
        "id": "c475ZIFzvNov"
      },
      "execution_count": null,
      "outputs": []
    },
    {
      "cell_type": "markdown",
      "metadata": {
        "id": "epJZL-A2FW9U"
      },
      "source": [
        "**Model random forest**"
      ]
    },
    {
      "cell_type": "code",
      "execution_count": null,
      "metadata": {
        "id": "xf_K7Z7yFaCe"
      },
      "outputs": [],
      "source": [
        "rf = RandomForestClassifier(labelCol=\"label_index\", featuresCol=\"features\")\n",
        "\n",
        "pipeline = Pipeline(stages=indexers + [label_indexer, assembler, rf])"
      ]
    },
    {
      "cell_type": "markdown",
      "source": [
        "**Training dan Evaluasi**"
      ],
      "metadata": {
        "id": "s6hxjauxt8c1"
      }
    },
    {
      "cell_type": "code",
      "execution_count": null,
      "metadata": {
        "id": "YAUoDmviFjJJ"
      },
      "outputs": [],
      "source": [
        "train_data, test_data = df_clean.randomSplit([0.8, 0.2], seed=42)\n",
        "\n",
        "paramGrid = ParamGridBuilder()\\\n",
        "    .addGrid(rf.numTrees, [20, 50])\\\n",
        "    .addGrid(rf.maxDepth, [5, 10])\\\n",
        "    .build()\n",
        "\n",
        "tvs = TrainValidationSplit(\n",
        "    estimator=pipeline,\n",
        "    estimatorParamMaps=paramGrid,\n",
        "    evaluator=MulticlassClassificationEvaluator(labelCol=\"label_index\", metricName=\"accuracy\"),\n",
        "    trainRatio=0.8\n",
        ")\n"
      ]
    },
    {
      "cell_type": "markdown",
      "source": [
        "**Fit Model dan prediksi**"
      ],
      "metadata": {
        "id": "sjkjZM9ouqVh"
      }
    },
    {
      "cell_type": "code",
      "source": [
        "model = tvs.fit(train_data)\n",
        "predictions = model.transform(test_data)\n",
        "\n",
        "# Evaluasi akurasi\n",
        "evaluator = MulticlassClassificationEvaluator(labelCol=\"label_index\", predictionCol=\"prediction\", metricName=\"accuracy\")\n",
        "accuracy = evaluator.evaluate(predictions)\n",
        "print(f\"Accuracy: {accuracy:.4f}\")\n",
        "\n",
        "# Evaluasi AUC\n",
        "binary_eval = BinaryClassificationEvaluator(labelCol=\"label_index\")\n",
        "auc = binary_eval.evaluate(predictions)\n",
        "print(f\"AUC: {auc:.4f}\")\n"
      ],
      "metadata": {
        "colab": {
          "base_uri": "https://localhost:8080/"
        },
        "id": "F-lc5IGzut2h",
        "outputId": "780c8b95-32ef-4b5b-8069-16c4ba4985af"
      },
      "execution_count": null,
      "outputs": [
        {
          "output_type": "stream",
          "name": "stdout",
          "text": [
            "Accuracy: 1.0000\n",
            "AUC: 1.0000\n"
          ]
        }
      ]
    },
    {
      "cell_type": "code",
      "source": [
        "!pip install matplotlib scikit-learn"
      ],
      "metadata": {
        "colab": {
          "base_uri": "https://localhost:8080/"
        },
        "id": "XwYxTtVX5bff",
        "outputId": "cb258ca8-eacc-4077-9081-9349fb8d8fcd"
      },
      "execution_count": null,
      "outputs": [
        {
          "output_type": "stream",
          "name": "stdout",
          "text": [
            "Requirement already satisfied: matplotlib in /usr/local/lib/python3.11/dist-packages (3.10.0)\n",
            "Requirement already satisfied: scikit-learn in /usr/local/lib/python3.11/dist-packages (1.6.1)\n",
            "Requirement already satisfied: contourpy>=1.0.1 in /usr/local/lib/python3.11/dist-packages (from matplotlib) (1.3.2)\n",
            "Requirement already satisfied: cycler>=0.10 in /usr/local/lib/python3.11/dist-packages (from matplotlib) (0.12.1)\n",
            "Requirement already satisfied: fonttools>=4.22.0 in /usr/local/lib/python3.11/dist-packages (from matplotlib) (4.58.4)\n",
            "Requirement already satisfied: kiwisolver>=1.3.1 in /usr/local/lib/python3.11/dist-packages (from matplotlib) (1.4.8)\n",
            "Requirement already satisfied: numpy>=1.23 in /usr/local/lib/python3.11/dist-packages (from matplotlib) (2.0.2)\n",
            "Requirement already satisfied: packaging>=20.0 in /usr/local/lib/python3.11/dist-packages (from matplotlib) (24.2)\n",
            "Requirement already satisfied: pillow>=8 in /usr/local/lib/python3.11/dist-packages (from matplotlib) (11.2.1)\n",
            "Requirement already satisfied: pyparsing>=2.3.1 in /usr/local/lib/python3.11/dist-packages (from matplotlib) (3.2.3)\n",
            "Requirement already satisfied: python-dateutil>=2.7 in /usr/local/lib/python3.11/dist-packages (from matplotlib) (2.9.0.post0)\n",
            "Requirement already satisfied: scipy>=1.6.0 in /usr/local/lib/python3.11/dist-packages (from scikit-learn) (1.15.3)\n",
            "Requirement already satisfied: joblib>=1.2.0 in /usr/local/lib/python3.11/dist-packages (from scikit-learn) (1.5.1)\n",
            "Requirement already satisfied: threadpoolctl>=3.1.0 in /usr/local/lib/python3.11/dist-packages (from scikit-learn) (3.6.0)\n",
            "Requirement already satisfied: six>=1.5 in /usr/local/lib/python3.11/dist-packages (from python-dateutil>=2.7->matplotlib) (1.17.0)\n"
          ]
        }
      ]
    },
    {
      "cell_type": "code",
      "source": [
        "import matplotlib.pyplot as plt\n",
        "from sklearn.metrics import roc_curve, auc\n",
        "\n",
        "results = predictions.select(\"probability\", \"label_index\").collect()\n",
        "y_score = [row['probability'][1] for row in results]  # Probabilitas untuk kelas 1\n",
        "y_true = [row['label_index'] for row in results]      # Label asli\n",
        "\n",
        "fpr, tpr, _ = roc_curve(y_true, y_score)\n",
        "roc_auc = auc(fpr, tpr)\n",
        "\n",
        "plt.figure(figsize=(8,6))\n",
        "plt.plot(fpr, tpr, color='darkorange', lw=2, label=f'ROC curve (AUC = {roc_auc:.2f})')\n",
        "plt.plot([0, 1], [0, 1], color='navy', lw=2, linestyle='--')\n",
        "plt.xlabel('False Positive Rate')\n",
        "plt.ylabel('True Positive Rate')\n",
        "plt.title('ROC Curve for CKD Classification')\n",
        "plt.legend(loc=\"lower right\")\n",
        "plt.grid()\n",
        "plt.show()\n"
      ],
      "metadata": {
        "colab": {
          "base_uri": "https://localhost:8080/",
          "height": 564
        },
        "id": "ECmBBuU75edb",
        "outputId": "82738ac4-472c-4f3c-93f7-cf26224c0ec2"
      },
      "execution_count": null,
      "outputs": [
        {
          "output_type": "display_data",
          "data": {
            "text/plain": [
              "<Figure size 800x600 with 1 Axes>"
            ],
            "image/png": "[encoded data removed]"
          },
          "metadata": {}
        }
      ]
    },
    {
      "cell_type": "code",
      "source": [
        "# Konversi ke Pandas untuk visualisasi\n",
        "pd_pred = predictions.select(\"label_index\", \"prediction\").toPandas()\n",
        "\n",
        "conf_matrix = pd.crosstab(pd_pred[\"label_index\"], pd_pred[\"prediction\"], rownames=[\"Actual\"], colnames=[\"Predicted\"])\n",
        "\n",
        "import seaborn as sns\n",
        "sns.heatmap(conf_matrix, annot=True, fmt='d', cmap='Blues')\n",
        "plt.title(\"Confusion Matrix\")\n",
        "plt.show()\n"
      ],
      "metadata": {
        "colab": {
          "base_uri": "https://localhost:8080/",
          "height": 472
        },
        "id": "4FpAFKJa2-Jr",
        "outputId": "587f9b9b-b79e-4636-8158-e18b5f64bc23"
      },
      "execution_count": null,
      "outputs": [
        {
          "output_type": "display_data",
          "data": {
            "text/plain": [
              "<Figure size 640x480 with 2 Axes>"
            ],
            "image/png": "[encoded data removed]"
          },
          "metadata": {}
        }
      ]
    }
  ],
  "metadata": {
    "colab": {
      "provenance": []
    },
    "kernelspec": {
      "display_name": "Python 3",
      "name": "python3"
    },
    "language_info": {
      "name": "python"
    }
  },
  "nbformat": 4,
  "nbformat_minor": 0
}